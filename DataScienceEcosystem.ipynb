{
 "cells": [
  {
   "cell_type": "markdown",
   "id": "dc84128e",
   "metadata": {},
   "source": [
    "# Data Science Tools and Ecosystem"
   ]
  },
  {
   "cell_type": "markdown",
   "id": "eb9960f6",
   "metadata": {},
   "source": [
    "# In this notebook, Data Science Tools and Ecosystem are summarized."
   ]
  },
  {
   "cell_type": "markdown",
   "id": "4314929d",
   "metadata": {},
   "source": [
    "Objectives:\n",
    "\n",
    "- The capabilities of R and its uses in Data Science.\n",
    "\n",
    "- The RStudio interface for running R codes. \n",
    "\n",
    "- Popular R packages for Data Science.\n",
    "\n",
    "- Popular data visualization packages in R.\n",
    "\n",
    "- Plotting with the inbuilt R plot function.\n",
    "\n",
    "- Plotting with ggplot.\n",
    "\n"
   ]
  },
  {
   "cell_type": "markdown",
   "id": "bd965d34",
   "metadata": {},
   "source": [
    "# Some of the popular languages that Data Scientists use are:\n",
    "\n",
    "1. R\n",
    "2. Python\n",
    "3. SQL\n",
    "4. Java\n",
    "5. Julia\n",
    "6. Scala\n",
    "7. JavaScript\n",
    "8. Swift"
   ]
  },
  {
   "cell_type": "markdown",
   "id": "2bf21716",
   "metadata": {},
   "source": [
    "# Some of the commonly used libraries used by Data Scientists include:\n",
    "\n",
    "1. Pandas\n",
    "2. Matplotlib\n",
    "3. Keras\n",
    "4. SciKit-Learn\n",
    "5. PyTorch"
   ]
  },
  {
   "cell_type": "markdown",
   "id": "43e7dc93",
   "metadata": {},
   "source": [
    "| Data Science Tools |\n",
    "|--------------------|\n",
    "|RStudio.|\n",
    "|Apache Spark.|\n",
    "|TensorFlow.|"
   ]
  },
  {
   "cell_type": "markdown",
   "id": "e281fd85",
   "metadata": {},
   "source": [
    "#  Introducing arithmetic expression examples\n",
    "\n",
    "### Below are a few examples of evaluating arithmetic expressions in Python"
   ]
  },
  {
   "cell_type": "code",
   "execution_count": 1,
   "id": "fb680eea",
   "metadata": {},
   "outputs": [
    {
     "data": {
      "text/plain": [
       "17"
      ]
     },
     "execution_count": 1,
     "metadata": {},
     "output_type": "execute_result"
    }
   ],
   "source": [
    "#  This a simple arithmetic expression to mutiply then add integers\n",
    "\n",
    "(3*4)+5"
   ]
  },
  {
   "cell_type": "code",
   "execution_count": 2,
   "id": "a3b32ca5",
   "metadata": {},
   "outputs": [
    {
     "data": {
      "text/plain": [
       "3.3333333333333335"
      ]
     },
     "execution_count": 2,
     "metadata": {},
     "output_type": "execute_result"
    }
   ],
   "source": [
    "#  This will convert 200 minutes to hours by diving by 60\n",
    "\n",
    "200/60"
   ]
  },
  {
   "cell_type": "markdown",
   "id": "b120dc0b",
   "metadata": {},
   "source": [
    "## Author\n",
    "Rohit Sasane"
   ]
  },
  {
   "cell_type": "code",
   "execution_count": null,
   "id": "d5e3f252",
   "metadata": {},
   "outputs": [],
   "source": []
  }
 ],
 "metadata": {
  "kernelspec": {
   "display_name": "Python 3 (ipykernel)",
   "language": "python",
   "name": "python3"
  },
  "language_info": {
   "codemirror_mode": {
    "name": "ipython",
    "version": 3
   },
   "file_extension": ".py",
   "mimetype": "text/x-python",
   "name": "python",
   "nbconvert_exporter": "python",
   "pygments_lexer": "ipython3",
   "version": "3.10.9"
  }
 },
 "nbformat": 4,
 "nbformat_minor": 5
}
